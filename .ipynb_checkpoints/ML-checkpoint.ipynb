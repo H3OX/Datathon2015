{
 "cells": [
  {
   "cell_type": "code",
   "execution_count": 134,
   "metadata": {},
   "outputs": [],
   "source": [
    "import json\n",
    "from math import log\n",
    "import pandas as pd\n",
    "def transform_json(line, border):\n",
    "    data = json.loads(line)\n",
    "    if data['salary'][border] is not None:\n",
    "        res = f\"{log(float(data['salary'][border]))} \"\n",
    "    else:\n",
    "        return 0\n",
    "    res = res + f\"|billing_type {data['billing_type']['id']}\"\n",
    "    res = res + f\"|accept_handicapped {data['accept_handicapped']}\"\n",
    "#     if data['key_skills']:\n",
    "#         res = res + '|key_skills '\n",
    "#         for elem in data['key_skills']:\n",
    "#             res = res + f\"{elem['name'].encode('utf8').decode().replace(' ', '_').replace(':', '')} \"\n",
    "        \n",
    "    res = res + f\"|employment {data['employment']['id']}\"\n",
    "    res = res + f\"|archived {data['archived']}\"\n",
    "    if 'id' in data['employer']:\n",
    "        res = res + f\"|employer {data['employer']['id']}\"\n",
    "    res = res + f\"|response_letter_required {data['response_letter_required']}\"\n",
    "    res = res + f\"|type {data['type']['id']}\"\n",
    "    if data['specializations']:\n",
    "        res = res + '|specializations '\n",
    "        for elem in data['specializations']:\n",
    "            res = res + f\"{elem['id']} \"\n",
    "    res = res + f\"|premium {data['premium']}\"\n",
    "    res = res + f\"|schedule {data['schedule']['id']}\"\n",
    "    res = res + f\"|billing_type {data['billing_type']['id']}\"\n",
    "    if data['department']:\n",
    "        res = res + f\"|department {data['department']['id']}\"\n",
    "    if data['address']:\n",
    "        if 'city' in data:\n",
    "            res = res + f\"|address {data['address']['city'].encode('utf8').replace(':', '')}\"\n",
    "    res = res + '|name ' + data['name'].encode('utf8').decode().replace(':', '')\n",
    "    res = res + f\"|area {data['area']['id']}\"\n",
    "    res = res + f\"|experience {data['experience']['id']}\"\n",
    "    res = res + '|description ' + data['description'].encode('utf8').decode().replace(':', '').replace('\\n', ' ')\n",
    "    \n",
    "    return res"
   ]
  },
  {
   "cell_type": "code",
   "execution_count": 110,
   "metadata": {},
   "outputs": [],
   "source": [
    "with open('train.txt', 'r') as inp, open('data_low.vw', 'w') as out:\n",
    "    for line in inp:\n",
    "        tline = transform_json(line, 'from')\n",
    "        if isinstance(tline, int):\n",
    "            continue\n",
    "        out.write(tline + '\\n')"
   ]
  },
  {
   "cell_type": "code",
   "execution_count": 111,
   "metadata": {},
   "outputs": [],
   "source": [
    "with open('train.txt', 'r') as inp, open('data_high.vw', 'w') as out:\n",
    "    for line in inp:\n",
    "        tline = transform_json(line, 'to')\n",
    "        if isinstance(tline, int):\n",
    "            continue\n",
    "        out.write(tline + '\\n')"
   ]
  },
  {
   "cell_type": "code",
   "execution_count": 112,
   "metadata": {},
   "outputs": [
    {
     "name": "stdout",
     "output_type": "stream",
     "text": [
      "10.341742483467284 |billing_type free|accept_handicapped False|employment full|archived False|employer 1942790|response_letter_required False|type open|specializations 3.318 3.98 3.230 3.90 |premium False|schedule fullDay|billing_type free|name Менеджер он-лайн офиса|area 1884|experience between1And3|description <p><strong>Обязанности</strong> консультирование клиентов, работа с электронной почтой, обучение новых сотрудников, ведение отчета по проделанной работе.</p> <p> </p> <p><strong>Требования</strong> уверенный пользователь ПК, скоростной интернет, целеустремленность, желание зарабатывать, терпеливость при работе с клиентами, ответственность, доброжелательность.</p> <p> </p> <p><strong>Условия</strong> трудоустройство по Т.З.Р.Ф., своевременная зарплата, бонусы, премии, бесплатное обучение и сопровождение до результата, карьерный рост.</p> <p>Обращаться по эл. почте</p>\n",
      "\n"
     ]
    }
   ],
   "source": [
    "with open('data_low.vw', 'r') as f:\n",
    "    for line in f.readlines(1):\n",
    "        print(line)"
   ]
  },
  {
   "cell_type": "code",
   "execution_count": 113,
   "metadata": {},
   "outputs": [
    {
     "name": "stdout",
     "output_type": "stream",
     "text": [
      "cat: stdout: Broken pipe\r\n"
     ]
    }
   ],
   "source": [
    "!cat data_high.vw | tail -100000 >> test_high.vw\n",
    "!cat data_high.vw | head -290000 >> train_high.vw"
   ]
  },
  {
   "cell_type": "code",
   "execution_count": 114,
   "metadata": {},
   "outputs": [
    {
     "name": "stdout",
     "output_type": "stream",
     "text": [
      "  390960 62917394 945079223 data_high.vw\r\n"
     ]
    }
   ],
   "source": [
    "!wc data_high.vw"
   ]
  },
  {
   "cell_type": "code",
   "execution_count": 115,
   "metadata": {},
   "outputs": [
    {
     "name": "stdout",
     "output_type": "stream",
     "text": [
      "cat: stdout: Broken pipe\r\n"
     ]
    }
   ],
   "source": [
    "!cat data_low.vw | tail -100000 >> test_low.vw\n",
    "!cat data_low.vw | head -540000 >> train_low.vw"
   ]
  },
  {
   "cell_type": "code",
   "execution_count": 116,
   "metadata": {},
   "outputs": [
    {
     "name": "stdout",
     "output_type": "stream",
     "text": [
      "final_regressor = model_low.vw\n",
      "Enabling FTRL based optimization\n",
      "Algorithm used: Proximal-FTRL\n",
      "ftrl_alpha = 0.005\n",
      "ftrl_beta = 0.1\n",
      "Num weight bits = 18\n",
      "learning rate = 0.5\n",
      "initial_t = 0\n",
      "power_t = 0.5\n",
      "creating cache_file = train_low.vw.cache\n",
      "Reading datafile = train_low.vw\n",
      "num sources = 1\n",
      "average  since         example        example  current  current  current\n",
      "loss     last          counter         weight    label  predict features\n",
      "106.951660 106.951660            1            1.0  10.3417   0.0000       75\n",
      "87.880878 68.810097            2            2.0   8.5172   0.2220      153\n",
      "93.990223 100.099567            4            4.0  10.8198   0.5810      207\n",
      "95.530644 97.071066            8            8.0   9.7981   1.0559      116\n",
      "92.893018 90.255391           16           16.0  15.7441   2.0837      214\n",
      "81.520527 70.148037           32           32.0  11.2252   2.0292      111\n",
      "62.562173 43.603819           64           64.0   9.7410   1.2855       72\n",
      "48.583236 34.604299          128          128.0   6.9078   3.5296      127\n",
      "34.970120 21.357004          256          256.0  10.5966   8.5869      165\n",
      "26.612133 18.254147          512          512.0   8.8537   3.0920       58\n",
      "19.501170 12.390206         1024         1024.0   9.2103   9.1850      136\n",
      "15.892611 12.284052         2048         2048.0   9.9988   3.3886       39\n",
      "13.125115 10.357620         4096         4096.0   9.3927   9.0258      176\n",
      "9.940636 6.756156         8192         8192.0  10.8198  10.6503      181\n",
      "6.989307 4.037979        16384        16384.0  10.9277   8.9501      197\n",
      "5.039375 3.089443        32768        32768.0  10.2036  10.4765      101\n",
      "3.708152 2.376928        65536        65536.0  15.2018   9.1734       41\n",
      "2.760645 1.813139       131072       131072.0   9.9035  10.4824      122\n",
      "2.126609 1.492572       262144       262144.0   9.9988  10.4328      109\n",
      "1.698775 1.270942       524288       524288.0  10.1266  11.0997       91\n",
      "\n",
      "finished run\n",
      "number of examples = 540000\n",
      "weighted example sum = 540000.000000\n",
      "weighted label sum = 5634682.894862\n",
      "average loss = 1.675464\n",
      "best constant = 10.434598\n",
      "total feature number = 81177510\n"
     ]
    }
   ],
   "source": [
    "!vw -d train_low.vw -c -f model_low.vw --ftrl"
   ]
  },
  {
   "cell_type": "code",
   "execution_count": 80,
   "metadata": {},
   "outputs": [
    {
     "name": "stdout",
     "output_type": "stream",
     "text": [
      "10.341742483467284 |billing_type free|accept_handicapped False|employment full|archived False|employer 1942790|response_letter_required False|type open|specializations 3.318 3.98 3.230 3.90 |premium False|schedule fullDay|billing_type free|name Менеджер он-лайн офиса|area 1884|experience between1And3|description <p><strong>Обязанности</strong> консультирование клиентов, работа с электронной почтой, обучение новых сотрудников, ведение отчета по проделанной работе.</p> <p> </p> <p><strong>Требования</strong> уверенный пользователь ПК, скоростной интернет, целеустремленность, желание зарабатывать, терпеливость при работе с клиентами, ответственность, доброжелательность.</p> <p> </p> <p><strong>Условия</strong> трудоустройство по Т.З.Р.Ф., своевременная зарплата, бонусы, премии, бесплатное обучение и сопровождение до результата, карьерный рост.</p> <p>Обращаться по эл. почте</p>\n",
      "\n"
     ]
    }
   ],
   "source": [
    "with open('train_low.vw', 'r') as f:\n",
    "    for line in f.readlines(1):\n",
    "        print(line)"
   ]
  },
  {
   "cell_type": "code",
   "execution_count": 118,
   "metadata": {},
   "outputs": [
    {
     "name": "stdout",
     "output_type": "stream",
     "text": [
      "final_regressor = model_high.vw\n",
      "Enabling FTRL based optimization\n",
      "Algorithm used: Proximal-FTRL\n",
      "ftrl_alpha = 0.005\n",
      "ftrl_beta = 0.1\n",
      "Num weight bits = 18\n",
      "learning rate = 0.5\n",
      "initial_t = 0\n",
      "power_t = 0.5\n",
      "creating cache_file = train_high.vw.cache\n",
      "Reading datafile = train_high.vw\n",
      "num sources = 1\n",
      "average  since         example        example  current  current  current\n",
      "loss     last          counter         weight    label  predict features\n",
      "109.476509 109.476509            1            1.0  10.4631   0.0000       48\n",
      "114.660633 119.844757            2            2.0  11.0021   0.0547       71\n",
      "111.746721 108.832809            4            4.0  10.0432   0.5217      128\n",
      "106.070099 100.393476            8            8.0  10.5966   0.2365       47\n",
      "97.291622 88.513145           16           16.0  10.0858   0.9092       97\n",
      "82.861560 68.431498           32           32.0  10.4043   2.9572      181\n",
      "70.258213 57.654867           64           64.0  10.7144   3.7279      187\n",
      "53.461538 36.664864          128          128.0  10.9331  10.8924      331\n",
      "44.888879 36.316219          256          256.0  10.3090   9.0366      180\n",
      "32.078770 19.268661          512          512.0  10.4913  12.3314      235\n",
      "24.280700 16.482630         1024         1024.0   9.9897  11.1718      180\n",
      "19.106513 13.932325         2048         2048.0  10.5966   8.7259      115\n",
      "14.139091 9.171670         4096         4096.0  11.5129  11.2988      157\n",
      "9.739355 5.339618         8192         8192.0   9.9523   8.0883       56\n",
      "7.111910 4.484466        16384        16384.0  10.1266   8.6264       59\n",
      "5.149844 3.187778        32768        32768.0  10.7144  10.6432      111\n",
      "3.784456 2.419068        65536        65536.0  11.9184  11.9295      166\n",
      "2.808562 1.832668       131072       131072.0  11.9184  10.6957      233\n",
      "2.164695 1.520829       262144       262144.0  10.4631  10.4067       81\n",
      "\n",
      "finished run\n",
      "number of examples = 290000\n",
      "weighted example sum = 290000.000000\n",
      "weighted label sum = 3146307.009081\n",
      "average loss = 2.061111\n",
      "best constant = 10.849335\n",
      "total feature number = 43597559\n"
     ]
    }
   ],
   "source": [
    "!vw -d train_high.vw -c -f model_high.vw --ftrl"
   ]
  },
  {
   "cell_type": "code",
   "execution_count": 5,
   "metadata": {},
   "outputs": [],
   "source": [
    "import numpy as np\n",
    "def create_test(filename):\n",
    "    t = []\n",
    "    with open(filename, 'r') as f:\n",
    "        for line in f:\n",
    "            t.append(np.exp(float(line.split()[0])))\n",
    "    return t"
   ]
  },
  {
   "cell_type": "code",
   "execution_count": 6,
   "metadata": {},
   "outputs": [],
   "source": [
    "test_from = create_test('test_low.vw')"
   ]
  },
  {
   "cell_type": "code",
   "execution_count": 7,
   "metadata": {},
   "outputs": [],
   "source": [
    "test_to = create_test('test_high.vw')"
   ]
  },
  {
   "cell_type": "code",
   "execution_count": 24,
   "metadata": {},
   "outputs": [
    {
     "name": "stdout",
     "output_type": "stream",
     "text": [
      "only testing\n",
      "predictions = hh_model.csv\n",
      "Enabling FTRL based optimization\n",
      "Algorithm used: Proximal-FTRL\n",
      "ftrl_alpha = 0.005\n",
      "ftrl_beta = 0.1\n",
      "Num weight bits = 18\n",
      "learning rate = 0.5\n",
      "initial_t = 0\n",
      "power_t = 0.5\n",
      "using no cache\n",
      "Reading datafile = test_high.vw\n",
      "num sources = 1\n",
      "average  since         example        example  current  current  current\n",
      "loss     last          counter         weight    label  predict features\n",
      "0.636248 0.636248            1            1.0  10.1943  10.9919      138\n",
      "0.569712 0.503176            2            2.0  12.4292  11.7199      205\n",
      "0.304272 0.038833            4            4.0  10.5966  10.3804      105\n",
      "3.894263 7.484253            8            8.0  15.7614  10.3220       58\n",
      "2.181874 0.469484           16           16.0  11.0666  10.5767      318\n",
      "1.242909 0.303943           32           32.0  11.0666  10.4306      314\n",
      "0.969416 0.695924           64           64.0  11.5129  11.9184      280\n",
      "1.378191 1.786966          128          128.0  10.8198  10.9431      100\n",
      "1.511355 1.644519          256          256.0  12.8992  10.3173      129\n",
      "1.362619 1.213883          512          512.0  11.5129  11.2135      133\n",
      "0.820830 0.279041         1024         1024.0  11.2898  11.2467      314\n",
      "0.643493 0.466155         2048         2048.0  10.2036  10.5437       71\n",
      "0.930425 1.217358         4096         4096.0  11.2898  11.3256      314\n",
      "0.884243 0.838061         8192         8192.0  11.2898  11.3561      314\n",
      "0.947802 1.011361        16384        16384.0  11.2898  11.3734      321\n",
      "0.869656 0.791511        32768        32768.0   9.3927   8.7690       58\n",
      "0.954079 1.038501        65536        65536.0   5.7038  10.3857      153\n",
      "\n",
      "finished run\n",
      "number of examples = 100000\n",
      "weighted example sum = 100000.000000\n",
      "weighted label sum = 1087685.684431\n",
      "average loss = 1.116219\n",
      "best constant = 10.876856\n",
      "total feature number = 16345187\n",
      "only testing\n",
      "predictions = hl_model.csv\n",
      "Enabling FTRL based optimization\n",
      "Algorithm used: Proximal-FTRL\n",
      "ftrl_alpha = 0.005\n",
      "ftrl_beta = 0.1\n",
      "Num weight bits = 18\n",
      "learning rate = 0.5\n",
      "initial_t = 0\n",
      "power_t = 0.5\n",
      "using no cache\n",
      "Reading datafile = test_high.vw\n",
      "num sources = 1\n",
      "average  since         example        example  current  current  current\n",
      "loss     last          counter         weight    label  predict features\n",
      "0.644961 0.644961            1            1.0  10.1943  10.9974      138\n",
      "0.737584 0.830206            2            2.0  12.4292  11.5181      205\n",
      "0.508745 0.279907            4            4.0  10.5966  10.4345      105\n",
      "3.514899 6.521053            8            8.0  15.7614  10.7615       58\n",
      "2.022634 0.530370           16           16.0  11.0666  10.2700      318\n",
      "1.234885 0.447136           32           32.0  11.0666  10.2086      314\n",
      "0.951706 0.668527           64           64.0  11.5129  10.9977      280\n",
      "1.322586 1.693465          128          128.0  10.8198  10.2962      100\n",
      "1.339163 1.355741          256          256.0  12.8992  10.4973      129\n",
      "1.190134 1.041106          512          512.0  11.5129  11.1075      133\n",
      "0.809875 0.429615         1024         1024.0  11.2898  10.7661      314\n",
      "0.717198 0.624521         2048         2048.0  10.2036  10.3540       71\n",
      "0.922274 1.127349         4096         4096.0  11.2898  10.8073      314\n",
      "0.892170 0.862067         8192         8192.0  11.2898  10.8707      314\n",
      "0.966284 1.040397        16384        16384.0  11.2898  10.9476      321\n",
      "0.924564 0.882844        32768        32768.0   9.3927   9.0323       58\n",
      "1.082769 1.240973        65536        65536.0   5.7038   9.8087      153\n",
      "\n",
      "finished run\n",
      "number of examples = 100000\n",
      "weighted example sum = 100000.000000\n",
      "weighted label sum = 1087685.684431\n",
      "average loss = 1.180284\n",
      "best constant = 10.876856\n",
      "total feature number = 16345187\n",
      "only testing\n",
      "predictions = ll_model.csv\n",
      "Enabling FTRL based optimization\n",
      "Algorithm used: Proximal-FTRL\n",
      "ftrl_alpha = 0.005\n",
      "ftrl_beta = 0.1\n",
      "Num weight bits = 18\n",
      "learning rate = 0.5\n",
      "initial_t = 0\n",
      "power_t = 0.5\n",
      "using no cache\n",
      "Reading datafile = test_low.vw\n",
      "num sources = 1\n",
      "average  since         example        example  current  current  current\n",
      "loss     last          counter         weight    label  predict features\n",
      "3.065171 3.065171            1            1.0   9.2103  10.9611      162\n",
      "1.569461 0.073752            2            2.0  10.1266  10.3982      139\n",
      "0.859207 0.148952            4            4.0  10.1659   9.8771      175\n",
      "0.605530 0.351852            8            8.0   9.3927  10.5144       49\n",
      "1.067596 1.529662           16           16.0  10.2036  10.2688       90\n",
      "1.206691 1.345787           32           32.0  14.9141  11.3730       69\n",
      "1.550184 1.893676           64           64.0  10.1266  10.8606       78\n",
      "1.330367 1.110550          128          128.0  10.1266  10.2227      230\n",
      "1.280045 1.229724          256          256.0  10.4631  10.8569      193\n",
      "1.121859 0.963672          512          512.0  11.9184  11.9840      276\n",
      "1.062067 1.002276         1024         1024.0   9.9035  10.3747       93\n",
      "1.331690 1.601312         2048         2048.0  10.8198  11.2279      118\n",
      "0.992293 0.652897         4096         4096.0   9.9035  10.6591       95\n",
      "0.956681 0.921070         8192         8192.0  11.7753  11.3668      259\n",
      "1.265167 1.573653        16384        16384.0  11.5129  10.9903      105\n",
      "1.208191 1.151216        32768        32768.0  10.9151  10.8330      352\n",
      "1.186827 1.165462        65536        65536.0  10.5966  10.9451       87\n",
      "\n",
      "finished run\n",
      "number of examples = 100000\n",
      "weighted example sum = 100000.000000\n",
      "weighted label sum = 1046550.961764\n",
      "average loss = 1.189559\n",
      "best constant = 10.465509\n",
      "total feature number = 14711774\n",
      "only testing\n",
      "predictions = lh_model.csv\n",
      "Enabling FTRL based optimization\n",
      "Algorithm used: Proximal-FTRL\n",
      "ftrl_alpha = 0.005\n",
      "ftrl_beta = 0.1\n",
      "Num weight bits = 18\n",
      "learning rate = 0.5\n",
      "initial_t = 0\n",
      "power_t = 0.5\n",
      "using no cache\n",
      "Reading datafile = test_low.vw\n",
      "num sources = 1\n",
      "average  since         example        example  current  current  current\n",
      "loss     last          counter         weight    label  predict features\n",
      "7.175160 7.175160            1            1.0   9.2103  11.8890      162\n",
      "4.415583 1.656005            2            2.0  10.1266  11.4135      139\n",
      "2.239826 0.064070            4            4.0  10.1659  10.2084      175\n",
      "1.380185 0.520545            8            8.0   9.3927  10.7945       49\n",
      "1.688717 1.997249           16           16.0  10.2036  10.4367       90\n",
      "1.873360 2.058004           32           32.0  14.9141  11.1105       69\n",
      "2.243552 2.613743           64           64.0  10.1266  10.8871       78\n",
      "1.859001 1.474451          128          128.0  10.1266  10.5468      230\n",
      "1.722886 1.586770          256          256.0  10.4631  10.6142      193\n",
      "1.617162 1.511437          512          512.0  11.9184  10.6188      276\n",
      "1.575192 1.533223         1024         1024.0   9.9035  10.3558       93\n",
      "1.821554 2.067915         2048         2048.0  10.8198  11.1897      118\n",
      "1.659611 1.497669         4096         4096.0   9.9035  10.7427       95\n",
      "1.683304 1.706996         8192         8192.0  11.7753  11.2054      259\n",
      "1.815862 1.948420        16384        16384.0  11.5129  11.0917      105\n",
      "1.686411 1.556960        32768        32768.0  10.9151  11.9612      352\n",
      "1.728930 1.771450        65536        65536.0  10.5966  11.1565       87\n",
      "\n",
      "finished run\n",
      "number of examples = 100000\n",
      "weighted example sum = 100000.000000\n",
      "weighted label sum = 1046550.961764\n",
      "average loss = 1.708823\n",
      "best constant = 10.465509\n",
      "total feature number = 14711774\n"
     ]
    }
   ],
   "source": [
    "# Перекрестная тренировка моделей\n",
    "\n",
    "!vw -t test_high.vw -i model_high.vw -p hh_model.csv\n",
    "!vw -t test_high.vw -i model_low.vw -p hl_model.csv\n",
    "!vw -t test_low.vw -i model_low.vw -p ll_model.csv\n",
    "!vw -t test_low.vw -i model_high.vw -p lh_model.csv"
   ]
  },
  {
   "cell_type": "code",
   "execution_count": 33,
   "metadata": {},
   "outputs": [],
   "source": [
    "lpred_h = np.exp(pd.read_csv('lh_model.csv', header=None).values[:, 0])\n",
    "lpred_l = np.exp(pd.read_csv('ll_model.csv', header=None).values[:, 0])\n",
    "lpreds = (lpred_h + lpred_l)/2\n",
    "\n",
    "hpred_h = np.exp(pd.read_csv('hh_model.csv', header=None).values[:,0])\n",
    "hpred_l = np.exp(pd.read_csv('hl_model.csv', header=None).values[:,0])\n",
    "hpreds = (hpred_h + hpred_l)/2"
   ]
  },
  {
   "cell_type": "code",
   "execution_count": 31,
   "metadata": {},
   "outputs": [
    {
     "data": {
      "text/plain": [
       "array([101621.84683994,  61667.70484163,  19952.30242499, ...,\n",
       "        49340.67925996,  20918.22207233,  38836.02411271])"
      ]
     },
     "execution_count": 31,
     "metadata": {},
     "output_type": "execute_result"
    }
   ],
   "source": [
    "lpreds"
   ]
  },
  {
   "cell_type": "code",
   "execution_count": 34,
   "metadata": {},
   "outputs": [
    {
     "data": {
      "text/plain": [
       "array([ 59555.60569663, 111752.98161221,  52819.67381734, ...,\n",
       "        46350.38005247, 140660.1729766 ,  49340.67925996])"
      ]
     },
     "execution_count": 34,
     "metadata": {},
     "output_type": "execute_result"
    }
   ],
   "source": [
    "hpreds"
   ]
  },
  {
   "cell_type": "code",
   "execution_count": 38,
   "metadata": {},
   "outputs": [
    {
     "name": "stdout",
     "output_type": "stream",
     "text": [
      "295.5975226025252\n"
     ]
    }
   ],
   "source": [
    "low_error = np.sqrt(np.mean((lpreds / test_from - 1) ** 2))\n",
    "high_error = np.sqrt(np.mean((test_to / hpreds - 1) ** 2))\n",
    "print (0.5*low_error + 0.5*high_error)"
   ]
  },
  {
   "cell_type": "code",
   "execution_count": null,
   "metadata": {},
   "outputs": [],
   "source": []
  }
 ],
 "metadata": {
  "kernelspec": {
   "display_name": "Python 3.7.6 64-bit",
   "language": "python",
   "name": "python37664bita2646d03a700482dbff71b2eb445a4db"
  },
  "language_info": {
   "codemirror_mode": {
    "name": "ipython",
    "version": 3
   },
   "file_extension": ".py",
   "mimetype": "text/x-python",
   "name": "python",
   "nbconvert_exporter": "python",
   "pygments_lexer": "ipython3",
   "version": "3.7.6"
  }
 },
 "nbformat": 4,
 "nbformat_minor": 4
}
