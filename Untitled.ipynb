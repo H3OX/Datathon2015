{
 "cells": [
  {
   "cell_type": "code",
   "execution_count": 2,
   "metadata": {},
   "outputs": [],
   "source": [
    "import pandas as pd\n",
    "import numpy as np\n",
    "import joblib"
   ]
  },
  {
   "cell_type": "code",
   "execution_count": 5,
   "metadata": {},
   "outputs": [],
   "source": [
    "data = joblib.load('dataset.pkl')\n",
    "ds = pd.DataFrame(data, columns=['id', 'employment', 'employer', 'billing_type', 'spec_id', 'premium', 'schedule', 'msg', 'city', 'exp', 'target_from', 'target_to'])"
   ]
  },
  {
   "cell_type": "code",
   "execution_count": 6,
   "metadata": {},
   "outputs": [
    {
     "data": {
      "text/html": [
       "<div>\n",
       "<style scoped>\n",
       "    .dataframe tbody tr th:only-of-type {\n",
       "        vertical-align: middle;\n",
       "    }\n",
       "\n",
       "    .dataframe tbody tr th {\n",
       "        vertical-align: top;\n",
       "    }\n",
       "\n",
       "    .dataframe thead th {\n",
       "        text-align: right;\n",
       "    }\n",
       "</style>\n",
       "<table border=\"1\" class=\"dataframe\">\n",
       "  <thead>\n",
       "    <tr style=\"text-align: right;\">\n",
       "      <th></th>\n",
       "      <th>id</th>\n",
       "      <th>employment</th>\n",
       "      <th>employer</th>\n",
       "      <th>billing_type</th>\n",
       "      <th>spec_id</th>\n",
       "      <th>premium</th>\n",
       "      <th>schedule</th>\n",
       "      <th>msg</th>\n",
       "      <th>city</th>\n",
       "      <th>exp</th>\n",
       "      <th>target_from</th>\n",
       "      <th>target_to</th>\n",
       "    </tr>\n",
       "  </thead>\n",
       "  <tbody>\n",
       "    <tr>\n",
       "      <td>0</td>\n",
       "      <td>4027565</td>\n",
       "      <td>Полная занятость</td>\n",
       "      <td>Сирота ЛБ</td>\n",
       "      <td>Бесплатная</td>\n",
       "      <td>3</td>\n",
       "      <td>False</td>\n",
       "      <td>Полный день</td>\n",
       "      <td>True</td>\n",
       "      <td>NaN</td>\n",
       "      <td>От 1 года до 3 лет</td>\n",
       "      <td>31000.0</td>\n",
       "      <td>NaN</td>\n",
       "    </tr>\n",
       "    <tr>\n",
       "      <td>1</td>\n",
       "      <td>0027565</td>\n",
       "      <td>Полная занятость</td>\n",
       "      <td>Атмосфера</td>\n",
       "      <td>Бесплатная</td>\n",
       "      <td>17</td>\n",
       "      <td>False</td>\n",
       "      <td>Полный день</td>\n",
       "      <td>True</td>\n",
       "      <td>NaN</td>\n",
       "      <td>От 1 года до 3 лет</td>\n",
       "      <td>5000.0</td>\n",
       "      <td>NaN</td>\n",
       "    </tr>\n",
       "    <tr>\n",
       "      <td>2</td>\n",
       "      <td>5917565</td>\n",
       "      <td>Полная занятость</td>\n",
       "      <td>Динамика</td>\n",
       "      <td>Бесплатная</td>\n",
       "      <td>3</td>\n",
       "      <td>False</td>\n",
       "      <td>Полный день</td>\n",
       "      <td>True</td>\n",
       "      <td>Бердск</td>\n",
       "      <td>Нет опыта</td>\n",
       "      <td>20000.0</td>\n",
       "      <td>35000.0</td>\n",
       "    </tr>\n",
       "    <tr>\n",
       "      <td>3</td>\n",
       "      <td>1917565</td>\n",
       "      <td>Полная занятость</td>\n",
       "      <td>Экостандарт</td>\n",
       "      <td>Стандарт</td>\n",
       "      <td>17</td>\n",
       "      <td>False</td>\n",
       "      <td>Полный день</td>\n",
       "      <td>True</td>\n",
       "      <td>Москва</td>\n",
       "      <td>От 1 года до 3 лет</td>\n",
       "      <td>50000.0</td>\n",
       "      <td>NaN</td>\n",
       "    </tr>\n",
       "    <tr>\n",
       "      <td>4</td>\n",
       "      <td>0917565</td>\n",
       "      <td>Полная занятость</td>\n",
       "      <td>Rendez-vous</td>\n",
       "      <td>Стандарт</td>\n",
       "      <td>17</td>\n",
       "      <td>False</td>\n",
       "      <td>Сменный график</td>\n",
       "      <td>True</td>\n",
       "      <td>NaN</td>\n",
       "      <td>Нет опыта</td>\n",
       "      <td>52000.0</td>\n",
       "      <td>NaN</td>\n",
       "    </tr>\n",
       "  </tbody>\n",
       "</table>\n",
       "</div>"
      ],
      "text/plain": [
       "        id        employment     employer billing_type spec_id  premium  \\\n",
       "0  4027565  Полная занятость    Сирота ЛБ   Бесплатная       3    False   \n",
       "1  0027565  Полная занятость    Атмосфера   Бесплатная      17    False   \n",
       "2  5917565  Полная занятость     Динамика   Бесплатная       3    False   \n",
       "3  1917565  Полная занятость  Экостандарт     Стандарт      17    False   \n",
       "4  0917565  Полная занятость  Rendez-vous     Стандарт      17    False   \n",
       "\n",
       "         schedule   msg    city                 exp  target_from  target_to  \n",
       "0     Полный день  True     NaN  От 1 года до 3 лет      31000.0        NaN  \n",
       "1     Полный день  True     NaN  От 1 года до 3 лет       5000.0        NaN  \n",
       "2     Полный день  True  Бердск           Нет опыта      20000.0    35000.0  \n",
       "3     Полный день  True  Москва  От 1 года до 3 лет      50000.0        NaN  \n",
       "4  Сменный график  True     NaN           Нет опыта      52000.0        NaN  "
      ]
     },
     "execution_count": 6,
     "metadata": {},
     "output_type": "execute_result"
    }
   ],
   "source": [
    "ds.head()"
   ]
  },
  {
   "cell_type": "code",
   "execution_count": 9,
   "metadata": {},
   "outputs": [
    {
     "data": {
      "text/plain": [
       "85409"
      ]
     },
     "execution_count": 9,
     "metadata": {},
     "output_type": "execute_result"
    }
   ],
   "source": [
    "len(ds['employer'].unique())"
   ]
  },
  {
   "cell_type": "code",
   "execution_count": 7,
   "metadata": {},
   "outputs": [
    {
     "name": "stdout",
     "output_type": "stream",
     "text": [
      "<class 'pandas.core.frame.DataFrame'>\n",
      "RangeIndex: 696698 entries, 0 to 696697\n",
      "Data columns (total 12 columns):\n",
      "id              696698 non-null object\n",
      "employment      696698 non-null object\n",
      "employer        696698 non-null object\n",
      "billing_type    696698 non-null object\n",
      "spec_id         696698 non-null object\n",
      "premium         696698 non-null bool\n",
      "schedule        696698 non-null object\n",
      "msg             696698 non-null bool\n",
      "city            208779 non-null object\n",
      "exp             696698 non-null object\n",
      "target_from     646085 non-null float64\n",
      "target_to       390960 non-null float64\n",
      "dtypes: bool(2), float64(2), object(8)\n",
      "memory usage: 54.5+ MB\n"
     ]
    }
   ],
   "source": [
    "ds.info()"
   ]
  },
  {
   "cell_type": "code",
   "execution_count": 8,
   "metadata": {},
   "outputs": [
    {
     "data": {
      "text/html": [
       "<div>\n",
       "<style scoped>\n",
       "    .dataframe tbody tr th:only-of-type {\n",
       "        vertical-align: middle;\n",
       "    }\n",
       "\n",
       "    .dataframe tbody tr th {\n",
       "        vertical-align: top;\n",
       "    }\n",
       "\n",
       "    .dataframe thead th {\n",
       "        text-align: right;\n",
       "    }\n",
       "</style>\n",
       "<table border=\"1\" class=\"dataframe\">\n",
       "  <thead>\n",
       "    <tr style=\"text-align: right;\">\n",
       "      <th></th>\n",
       "      <th>target_from</th>\n",
       "      <th>target_to</th>\n",
       "    </tr>\n",
       "  </thead>\n",
       "  <tbody>\n",
       "    <tr>\n",
       "      <td>count</td>\n",
       "      <td>6.460850e+05</td>\n",
       "      <td>3.909600e+05</td>\n",
       "    </tr>\n",
       "    <tr>\n",
       "      <td>mean</td>\n",
       "      <td>2.358419e+05</td>\n",
       "      <td>2.946869e+05</td>\n",
       "    </tr>\n",
       "    <tr>\n",
       "      <td>std</td>\n",
       "      <td>1.229709e+06</td>\n",
       "      <td>2.879861e+06</td>\n",
       "    </tr>\n",
       "    <tr>\n",
       "      <td>min</td>\n",
       "      <td>1.000000e+00</td>\n",
       "      <td>1.000000e+00</td>\n",
       "    </tr>\n",
       "    <tr>\n",
       "      <td>25%</td>\n",
       "      <td>2.000000e+04</td>\n",
       "      <td>3.000000e+04</td>\n",
       "    </tr>\n",
       "    <tr>\n",
       "      <td>50%</td>\n",
       "      <td>3.000000e+04</td>\n",
       "      <td>4.500000e+04</td>\n",
       "    </tr>\n",
       "    <tr>\n",
       "      <td>75%</td>\n",
       "      <td>4.950000e+04</td>\n",
       "      <td>8.000000e+04</td>\n",
       "    </tr>\n",
       "    <tr>\n",
       "      <td>max</td>\n",
       "      <td>1.500000e+08</td>\n",
       "      <td>1.000000e+09</td>\n",
       "    </tr>\n",
       "  </tbody>\n",
       "</table>\n",
       "</div>"
      ],
      "text/plain": [
       "        target_from     target_to\n",
       "count  6.460850e+05  3.909600e+05\n",
       "mean   2.358419e+05  2.946869e+05\n",
       "std    1.229709e+06  2.879861e+06\n",
       "min    1.000000e+00  1.000000e+00\n",
       "25%    2.000000e+04  3.000000e+04\n",
       "50%    3.000000e+04  4.500000e+04\n",
       "75%    4.950000e+04  8.000000e+04\n",
       "max    1.500000e+08  1.000000e+09"
      ]
     },
     "execution_count": 8,
     "metadata": {},
     "output_type": "execute_result"
    }
   ],
   "source": [
    "ds.describe()"
   ]
  },
  {
   "cell_type": "code",
   "execution_count": null,
   "metadata": {},
   "outputs": [],
   "source": [
    "def transform_exp(data):\n",
    "    "
   ]
  }
 ],
 "metadata": {
  "kernelspec": {
   "display_name": "Python 3",
   "language": "python",
   "name": "python3"
  },
  "language_info": {
   "codemirror_mode": {
    "name": "ipython",
    "version": 3
   },
   "file_extension": ".py",
   "mimetype": "text/x-python",
   "name": "python",
   "nbconvert_exporter": "python",
   "pygments_lexer": "ipython3",
   "version": "3.7.4"
  }
 },
 "nbformat": 4,
 "nbformat_minor": 2
}
